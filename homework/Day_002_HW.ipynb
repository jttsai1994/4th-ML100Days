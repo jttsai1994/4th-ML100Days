{
 "cells": [
  {
   "cell_type": "markdown",
   "metadata": {},
   "source": [
    "## [作業目標]\n",
    "了解機器學習適合應用的領域與範疇。"
   ]
  },
  {
   "cell_type": "markdown",
   "metadata": {},
   "source": [
    "## [作業重點]\n",
    "透過瞭解機器學習的運作方式，找出非常適用機器學習應用的領域及其原因"
   ]
  },
  {
   "cell_type": "markdown",
   "metadata": {},
   "source": [
    "## 作業\n",
    "請找出一個你認為機器學習可以發光發熱的領域並闡述原因? "
   ]
  },
  {
   "cell_type": "markdown",
   "metadata": {},
   "source": [
    "       我目前對於運動科學領域有興趣，認為機器學習在運動的分析上有很大的發展空間。\n",
    "       第一，運動場上可以累積大量的數據，不同的運動可以蒐集不同面向的數據，搭配現在日新月異的科技，數據的精準度可大幅提升。\n",
    "       第二，利用機器學習去研究數據，分析背後的意義，找到不同於以往的分析面向。傳統的科學對數據的分析可能已到一定的水平，但因為沒有新的分析方法與結果，可能無法再突破。利用大數據搭配機器學習演算法，可以找到過往無法發現的特徵，讓運動員的表現搭配訓練有所突破。\n",
    "       第三，機器學習分析場上選手的行為，是所有關注運動賽事結果的人皆會有興趣的，例如網球，不同的擊球策略，對手在球場的右半邊或左半邊，以正手拍或反手拍回擊到球場上的左半邊或右半邊的機率。傳統而言用人工統計結果再分析耗時費工，但是現今可使用機器學習演算法分類不同情形下球員回擊的情況，可做為對戰策略訂定的依據。"
   ]
  }
 ],
 "metadata": {
  "kernelspec": {
   "display_name": "Python 3",
   "language": "python",
   "name": "python3"
  },
  "language_info": {
   "codemirror_mode": {
    "name": "ipython",
    "version": 3
   },
   "file_extension": ".py",
   "mimetype": "text/x-python",
   "name": "python",
   "nbconvert_exporter": "python",
   "pygments_lexer": "ipython3",
   "version": "3.7.5"
  }
 },
 "nbformat": 4,
 "nbformat_minor": 2
}
